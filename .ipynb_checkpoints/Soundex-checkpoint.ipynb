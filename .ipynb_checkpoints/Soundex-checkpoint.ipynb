{
 "cells": [
  {
   "cell_type": "markdown",
   "metadata": {},
   "source": [
    "<h1>Change char to number</h1>"
   ]
  },
  {
   "cell_type": "code",
   "execution_count": 1,
   "metadata": {},
   "outputs": [
    {
     "name": "stdout",
     "output_type": "stream",
     "text": [
      "['h', '0', '6', '5', '0', '5']\n"
     ]
    }
   ],
   "source": [
    "text = \"herman\"\n",
    "texts = text.lower()\n",
    "text_list = list(texts)\n",
    "text_length=len(text_list)\n",
    "\n",
    "change_to_number_list = []\n",
    "\n",
    "def changeToNumber(text):\n",
    "    changenumber = []\n",
    "    \n",
    "    for x in text[1:text_length]:\n",
    "        for y in x:\n",
    "            if 'a' in y or 'e' in y or 'i' in y or 'o' in y or 'u' in y or 'h' in y or 'w' in y or 'y' in y:\n",
    "                y = '0'\n",
    "            elif 'b' in y or 'f' in y or 'p' in y or 'v' in y:\n",
    "                y = '1'\n",
    "            elif 'c' in y or 'g' in y or 'j' in y or 'k' in y or 'q' in y or 's' in y or 'x' in y or 'z' in y:\n",
    "                y = '2'\n",
    "            elif 'd' in y or 't' in y:\n",
    "                y = '3'\n",
    "            elif 'l' in y:\n",
    "                y = '4'\n",
    "            elif 'm' in y or 'n' in y:\n",
    "                y = '5'\n",
    "            elif 'r' in y:\n",
    "                y = '6'\n",
    "            changenumber.append(y)\n",
    "    return changenumber\n",
    "\n",
    "change_to_number_list = changeToNumber(text_list)\n",
    "\n",
    "index_number = []\n",
    "\n",
    "#ambil huruf pertama\n",
    "index_number.extend(text_list[0:1])\n",
    "\n",
    "#menambahkan char berikutnya yang sudah diubah menjadi angka\n",
    "index_number.extend(change_to_number_list)\n",
    "\n",
    "print(index_number)"
   ]
  },
  {
   "cell_type": "markdown",
   "metadata": {},
   "source": [
    "<h1>Change zero to none value</h1>"
   ]
  },
  {
   "cell_type": "code",
   "execution_count": 2,
   "metadata": {},
   "outputs": [
    {
     "data": {
      "text/plain": [
       "['h', None, '6', '5', None, '5']"
      ]
     },
     "execution_count": 2,
     "metadata": {},
     "output_type": "execute_result"
    }
   ],
   "source": [
    "change_zero = []\n",
    "\n",
    "def changeZero(text):\n",
    "    changezero = []\n",
    "    \n",
    "    for i in text:\n",
    "        if i is '0':\n",
    "            changezero.append(None)\n",
    "        else:\n",
    "            changezero.append(i)\n",
    "    return changezero\n",
    "\n",
    "change_zero = changeZero(index_number);\n",
    "change_zero"
   ]
  },
  {
   "cell_type": "markdown",
   "metadata": {},
   "source": [
    "<h1>Delete none value</h1>"
   ]
  },
  {
   "cell_type": "code",
   "execution_count": 6,
   "metadata": {},
   "outputs": [
    {
     "data": {
      "text/plain": [
       "['h', '6', '5', '5']"
      ]
     },
     "execution_count": 6,
     "metadata": {},
     "output_type": "execute_result"
    }
   ],
   "source": [
    "none_value = []\n",
    "\n",
    "def deleteNone(text):\n",
    "    nones = []\n",
    "    \n",
    "    for val in text:\n",
    "        if val != None :\n",
    "            nones.extend(val)\n",
    "    return nones\n",
    "            \n",
    "none_value = deleteNone(change_zero)\n",
    "none_value"
   ]
  },
  {
   "cell_type": "markdown",
   "metadata": {},
   "source": [
    "<h1>Change list to string</h1>"
   ]
  },
  {
   "cell_type": "code",
   "execution_count": 7,
   "metadata": {},
   "outputs": [
    {
     "name": "stdout",
     "output_type": "stream",
     "text": [
      "h655\n"
     ]
    }
   ],
   "source": [
    "def listToString(s):\n",
    "    str1=\"\"\n",
    "    return(str1.join(s))\n",
    "\n",
    "results = listToString(none_value)\n",
    "\n",
    "print(results)"
   ]
  },
  {
   "cell_type": "code",
   "execution_count": null,
   "metadata": {},
   "outputs": [],
   "source": []
  }
 ],
 "metadata": {
  "kernelspec": {
   "display_name": "Python 3",
   "language": "python",
   "name": "python3"
  },
  "language_info": {
   "codemirror_mode": {
    "name": "ipython",
    "version": 3
   },
   "file_extension": ".py",
   "mimetype": "text/x-python",
   "name": "python",
   "nbconvert_exporter": "python",
   "pygments_lexer": "ipython3",
   "version": "3.7.4"
  }
 },
 "nbformat": 4,
 "nbformat_minor": 2
}
