{
 "cells": [
  {
   "cell_type": "markdown",
   "metadata": {},
   "source": [
    "<h1>Language Model</h1>"
   ]
  },
  {
   "cell_type": "code",
   "execution_count": null,
   "metadata": {},
   "outputs": [],
   "source": [
    "import timeit\n",
    "\n",
    "query = '1991'\n",
    "clean_query_text, clean_query_words = preprocess(query)\n",
    "lambd = 1/4\n",
    "limit = 5\n",
    "result_dict = list()\n",
    "\n",
    "df_doc_freq = pd.read_csv('Document Frequencies.csv')\n",
    "\n",
    "global_freq = int(open(\"global_frequency.txt\", \"r\").read())\n",
    "print(global_freq)\n",
    "\n",
    "start = timeit.default_timer()\n",
    "for i in df_doc_freq.iterrows():\n",
    "    local_freq = i[1]['Frequency']\n",
    "    doc_number = i[1]['Document']\n",
    "    doc_number = str(doc_number).zfill(3)\n",
    "    result = 1\n",
    "    for j in query.split():\n",
    "        entries = df.loc[df['Term'] == j]['Documents'].values[0]\n",
    "        entries = entries.split(', ',1)\n",
    "        entries[0] = entries[0].replace(\"[\", \"\")\n",
    "        entries[1] = entries[1].replace(']', '')\n",
    "        entries[1] = ast.literal_eval(entries[1])\n",
    "        if doc_number in entries[1].keys():\n",
    "            prob = (float(entries[1][doc_number])/float(local_freq)*lambd) + (float(entries[0])/float(global_freq)*(1-lambd))\n",
    "        else:\n",
    "            prob = (float(entries[0])/float(global_freq)*(1-lambd))\n",
    "        result *= prob\n",
    "    result_dict.append((doc_number, result))\n",
    "result_sorted = sorted(result_dict, key=lambda x: x[1], reverse=True)\n",
    "print(result_sorted[:limit])\n",
    "\n",
    "stop = timeit.default_timer()\n",
    "print(\"Waktu pembuatan indeks:\", stop-start)"
   ]
  },
  {
   "cell_type": "markdown",
   "metadata": {},
   "source": [
    "<h1>TF IDF</h1>"
   ]
  },
  {
   "cell_type": "code",
   "execution_count": null,
   "metadata": {},
   "outputs": [],
   "source": []
  }
 ],
 "metadata": {
  "kernelspec": {
   "display_name": "Python 3",
   "language": "python",
   "name": "python3"
  },
  "language_info": {
   "codemirror_mode": {
    "name": "ipython",
    "version": 3
   },
   "file_extension": ".py",
   "mimetype": "text/x-python",
   "name": "python",
   "nbconvert_exporter": "python",
   "pygments_lexer": "ipython3",
   "version": "3.7.3"
  }
 },
 "nbformat": 4,
 "nbformat_minor": 2
}
