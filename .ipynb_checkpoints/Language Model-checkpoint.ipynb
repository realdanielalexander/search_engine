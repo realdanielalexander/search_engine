{
 "cells": [
  {
   "cell_type": "code",
   "execution_count": 1,
   "metadata": {},
   "outputs": [],
   "source": [
    "import pandas as pd\n",
    "import numpy as np"
   ]
  },
  {
   "cell_type": "code",
   "execution_count": 7,
   "metadata": {},
   "outputs": [
    {
     "data": {
      "text/html": [
       "<div>\n",
       "<style scoped>\n",
       "    .dataframe tbody tr th:only-of-type {\n",
       "        vertical-align: middle;\n",
       "    }\n",
       "\n",
       "    .dataframe tbody tr th {\n",
       "        vertical-align: top;\n",
       "    }\n",
       "\n",
       "    .dataframe thead th {\n",
       "        text-align: right;\n",
       "    }\n",
       "</style>\n",
       "<table border=\"1\" class=\"dataframe\">\n",
       "  <thead>\n",
       "    <tr style=\"text-align: right;\">\n",
       "      <th></th>\n",
       "      <th>Unnamed: 0</th>\n",
       "      <th>Term</th>\n",
       "      <th>Documents</th>\n",
       "    </tr>\n",
       "  </thead>\n",
       "  <tbody>\n",
       "    <tr>\n",
       "      <th>0</th>\n",
       "      <td>0</td>\n",
       "      <td>Xerox</td>\n",
       "      <td>[1, {'001': 1}]</td>\n",
       "    </tr>\n",
       "    <tr>\n",
       "      <th>1</th>\n",
       "      <td>1</td>\n",
       "      <td>reports</td>\n",
       "      <td>[1, {'001': 1}]</td>\n",
       "    </tr>\n",
       "    <tr>\n",
       "      <th>2</th>\n",
       "      <td>2</td>\n",
       "      <td>a</td>\n",
       "      <td>[1, {'001': 1}]</td>\n",
       "    </tr>\n",
       "    <tr>\n",
       "      <th>3</th>\n",
       "      <td>3</td>\n",
       "      <td>profit</td>\n",
       "      <td>[1, {'001': 1}]</td>\n",
       "    </tr>\n",
       "    <tr>\n",
       "      <th>4</th>\n",
       "      <td>4</td>\n",
       "      <td>but</td>\n",
       "      <td>[2, {'001': 1, '002': 1}]</td>\n",
       "    </tr>\n",
       "    <tr>\n",
       "      <th>5</th>\n",
       "      <td>5</td>\n",
       "      <td>revenue</td>\n",
       "      <td>[2, {'001': 1, '002': 1}]</td>\n",
       "    </tr>\n",
       "    <tr>\n",
       "      <th>6</th>\n",
       "      <td>6</td>\n",
       "      <td>is</td>\n",
       "      <td>[1, {'001': 1}]</td>\n",
       "    </tr>\n",
       "    <tr>\n",
       "      <th>7</th>\n",
       "      <td>7</td>\n",
       "      <td>down</td>\n",
       "      <td>[1, {'001': 1}]</td>\n",
       "    </tr>\n",
       "    <tr>\n",
       "      <th>8</th>\n",
       "      <td>8</td>\n",
       "      <td>Lucent</td>\n",
       "      <td>[1, {'002': 1}]</td>\n",
       "    </tr>\n",
       "    <tr>\n",
       "      <th>9</th>\n",
       "      <td>9</td>\n",
       "      <td>narrows</td>\n",
       "      <td>[1, {'002': 1}]</td>\n",
       "    </tr>\n",
       "    <tr>\n",
       "      <th>10</th>\n",
       "      <td>10</td>\n",
       "      <td>quarter</td>\n",
       "      <td>[1, {'002': 1}]</td>\n",
       "    </tr>\n",
       "    <tr>\n",
       "      <th>11</th>\n",
       "      <td>11</td>\n",
       "      <td>loss</td>\n",
       "      <td>[1, {'002': 1}]</td>\n",
       "    </tr>\n",
       "    <tr>\n",
       "      <th>12</th>\n",
       "      <td>12</td>\n",
       "      <td>decreases</td>\n",
       "      <td>[1, {'002': 1}]</td>\n",
       "    </tr>\n",
       "    <tr>\n",
       "      <th>13</th>\n",
       "      <td>13</td>\n",
       "      <td>further</td>\n",
       "      <td>[1, {'002': 1}]</td>\n",
       "    </tr>\n",
       "  </tbody>\n",
       "</table>\n",
       "</div>"
      ],
      "text/plain": [
       "    Unnamed: 0       Term                  Documents\n",
       "0            0      Xerox            [1, {'001': 1}]\n",
       "1            1    reports            [1, {'001': 1}]\n",
       "2            2          a            [1, {'001': 1}]\n",
       "3            3     profit            [1, {'001': 1}]\n",
       "4            4        but  [2, {'001': 1, '002': 1}]\n",
       "5            5    revenue  [2, {'001': 1, '002': 1}]\n",
       "6            6         is            [1, {'001': 1}]\n",
       "7            7       down            [1, {'001': 1}]\n",
       "8            8     Lucent            [1, {'002': 1}]\n",
       "9            9    narrows            [1, {'002': 1}]\n",
       "10          10    quarter            [1, {'002': 1}]\n",
       "11          11       loss            [1, {'002': 1}]\n",
       "12          12  decreases            [1, {'002': 1}]\n",
       "13          13    further            [1, {'002': 1}]"
      ]
     },
     "execution_count": 7,
     "metadata": {},
     "output_type": "execute_result"
    }
   ],
   "source": [
    "df = pd.read_csv('testing.csv')\n",
    "lambd = 1/2\n",
    "query = 'revenue down'\n",
    "df"
   ]
  },
  {
   "cell_type": "code",
   "execution_count": 203,
   "metadata": {},
   "outputs": [
    {
     "name": "stdout",
     "output_type": "stream",
     "text": [
      "16\n"
     ]
    }
   ],
   "source": [
    "global_freq = 0\n",
    "for i in df.iterrows():\n",
    "    documents = i[1][2].strip('][').replace(\"'\", \"\").split(', ')\n",
    "    global_freq+=int(documents[0])\n",
    "print(global_freq)"
   ]
  },
  {
   "cell_type": "code",
   "execution_count": 99,
   "metadata": {},
   "outputs": [],
   "source": [
    "import ast"
   ]
  },
  {
   "cell_type": "code",
   "execution_count": 130,
   "metadata": {},
   "outputs": [
    {
     "data": {
      "text/plain": [
       "8"
      ]
     },
     "execution_count": 130,
     "metadata": {},
     "output_type": "execute_result"
    }
   ],
   "source": [
    "df_doc_freq = pd.read_csv('test doc frequencies.csv')\n",
    "df_doc_freq.iloc[0]['Frequency']"
   ]
  },
  {
   "cell_type": "code",
   "execution_count": 178,
   "metadata": {},
   "outputs": [
    {
     "name": "stdout",
     "output_type": "stream",
     "text": [
      "2\n",
      "1\n"
     ]
    }
   ],
   "source": [
    "#let's get started\n",
    "# print(df.loc[df['Term'] == 'revenue'])\n",
    "for i in query.split():\n",
    "#     entries = df.loc[df['Term'] == i]['Documents'].values).strip('][').replace(\"\\'\", \"\").split(', ')\n",
    "    entries = df.loc[df['Term'] == i]['Documents'].values[0]\n",
    "    entries = entries.split(', ',1)\n",
    "    entries[0] = entries[0].replace(\"[\", \"\")\n",
    "    entries[1] = entries[1].replace(']', '')\n",
    "    entries[1] = ast.literal_eval(entries[1])\n",
    "    result = 1\n",
    "    print(entries[0])\n",
    "    for doc, freq in entries[1].items():\n",
    "        pass\n",
    "#         local_freq = df_doc_freq.iloc[int(doc)-1]['Frequency']\n",
    "#         result *= ((float(freq)/float(local_freq))*lambd+(float(entries[0])/float(sum_global))*(1-lambd))\n",
    "#         print(freq)\n",
    "#         print(local_freq)\n",
    "#         print(int(entries[0]))\n",
    "#         print(sum_global)\n",
    "#         print(float(freq)/float(local_freq)*lambd)\n",
    "#         print(float(entries[0])/float(sum_global)*(1-lambd))"
   ]
  },
  {
   "cell_type": "code",
   "execution_count": 234,
   "metadata": {},
   "outputs": [
    {
     "name": "stdout",
     "output_type": "stream",
     "text": [
      "0.01171875\n",
      "0.00390625\n"
     ]
    }
   ],
   "source": [
    "entries = df.loc[df['Term'] == 'down']['Documents'].values[0]\n",
    "\n",
    "for i in df_doc_freq.iterrows():\n",
    "    local_freq = i[1]['Frequency']\n",
    "    doc_number = i[1]['Document']\n",
    "    doc_number = str(doc_number).zfill(3)\n",
    "    result = 1\n",
    "    for j in query.split():\n",
    "        entries = df.loc[df['Term'] == j]['Documents'].values[0]\n",
    "        entries = entries.split(', ',1)\n",
    "        entries[0] = entries[0].replace(\"[\", \"\")\n",
    "        entries[1] = entries[1].replace(']', '')\n",
    "        entries[1] = ast.literal_eval(entries[1])\n",
    "        if doc_number in entries[1].keys():\n",
    "            prob = (float(entries[1][doc_number])/float(local_freq)*lambd) + (float(entries[0])/float(global_freq)*(1-lambd))\n",
    "        else:\n",
    "            prob = (float(entries[0])/float(global_freq)*(1-lambd))\n",
    "        result *= prob\n",
    "    \n",
    "#         result *= ((float(freq)/float(local_freq))*lambd+(float(entries[0])/float(sum_global))*(1-lambd))\n",
    "#         term = df.loc[df['Term'] == j]['Term']\n",
    "#         print(term.values[0])"
   ]
  },
  {
   "cell_type": "code",
   "execution_count": null,
   "metadata": {},
   "outputs": [],
   "source": []
  }
 ],
 "metadata": {
  "kernelspec": {
   "display_name": "Python 3",
   "language": "python",
   "name": "python3"
  },
  "language_info": {
   "codemirror_mode": {
    "name": "ipython",
    "version": 3
   },
   "file_extension": ".py",
   "mimetype": "text/x-python",
   "name": "python",
   "nbconvert_exporter": "python",
   "pygments_lexer": "ipython3",
   "version": "3.7.3"
  }
 },
 "nbformat": 4,
 "nbformat_minor": 2
}
